{
  "nbformat": 4,
  "nbformat_minor": 0,
  "metadata": {
    "colab": {
      "name": "YOLOv3_tiny.ipynb",
      "provenance": [],
      "collapsed_sections": [],
      "authorship_tag": "ABX9TyNw0fYN7C2aCIkqD9NH80vN",
      "include_colab_link": true
    },
    "kernelspec": {
      "name": "python3",
      "display_name": "Python 3"
    },
    "accelerator": "GPU"
  },
  "cells": [
    {
      "cell_type": "markdown",
      "metadata": {
        "id": "view-in-github",
        "colab_type": "text"
      },
      "source": [
        "<a href=\"https://colab.research.google.com/github/JaeKyunKo/Darknet_YOLOv3/blob/master/YOLOv3_tiny.ipynb\" target=\"_parent\"><img src=\"https://colab.research.google.com/assets/colab-badge.svg\" alt=\"Open In Colab\"/></a>"
      ]
    },
    {
      "cell_type": "code",
      "metadata": {
        "id": "oo1cCXL2CN45",
        "colab_type": "code",
        "colab": {}
      },
      "source": [
        "# Verify CUDA Version\n",
        "!/usr/local/cuda/bin/nvcc --version "
      ],
      "execution_count": 0,
      "outputs": []
    },
    {
      "cell_type": "code",
      "metadata": {
        "id": "Qp18KU5iUTue",
        "colab_type": "code",
        "colab": {}
      },
      "source": [
        "# Get Darknet Platform\n",
        "!git clone https://github.com/JinFree/darknet"
      ],
      "execution_count": 0,
      "outputs": []
    },
    {
      "cell_type": "code",
      "metadata": {
        "id": "lDouqYUqUXJ_",
        "colab_type": "code",
        "colab": {}
      },
      "source": [
        "# Make Darknet Preparation\n",
        "%cd darknet\n",
        "!sed -i 's/OPENCV=0/OPENCV=1/' Makefile\n",
        "!sed -i 's/GPU=0/GPU=1/' Makefile\n",
        "!sed -i 's/CUDNN=0/CUDNN=1/' Makefile"
      ],
      "execution_count": 0,
      "outputs": []
    },
    {
      "cell_type": "code",
      "metadata": {
        "id": "rae3bHhYVVKB",
        "colab_type": "code",
        "colab": {}
      },
      "source": [
        "# Make darknet (build)\n",
        "!make"
      ],
      "execution_count": 0,
      "outputs": []
    },
    {
      "cell_type": "code",
      "metadata": {
        "id": "fdKO9hf9h9W-",
        "colab_type": "code",
        "colab": {}
      },
      "source": [
        "# Define Helper Functions\n",
        "def imShow(path):\n",
        "  import cv2\n",
        "  import matplotlib.pyplot as plt\n",
        "  %matplotlib inline\n",
        "\n",
        "  image = cv2.imread(path)\n",
        "  height, width = image.shape[:2]\n",
        "  resized_image = cv2.resize(image,(3*width, 3*height), interpolation = cv2.INTER_CUBIC)\n",
        "\n",
        "  fig = plt.gcf()\n",
        "  fig.set_size_inches(18, 10)\n",
        "  plt.axis(\"off\")\n",
        "  plt.imshow(cv2.cvtColor(resized_image, cv2.COLOR_BGR2RGB))\n",
        "  plt.show()\n",
        "\n",
        "# use this to upload files\n",
        "def upload():\n",
        "  from google.colab import files\n",
        "  uploaded = files.upload() \n",
        "  for name, data in uploaded.items():\n",
        "    with open(name, 'wb') as f:\n",
        "      f.write(data)\n",
        "      print ('saved file', name)\n",
        "\n",
        "# use this to download a file  \n",
        "def download(path):\n",
        "  from google.colab import files\n",
        "  files.download(path)"
      ],
      "execution_count": 0,
      "outputs": []
    },
    {
      "cell_type": "code",
      "metadata": {
        "id": "QtNsjQ3sg7wg",
        "colab_type": "code",
        "colab": {}
      },
      "source": [
        "# Get Access to Google Drive\n",
        "%cd ..\n",
        "from google.colab import drive\n",
        "drive.mount('/content/gdrive')"
      ],
      "execution_count": 0,
      "outputs": []
    },
    {
      "cell_type": "code",
      "metadata": {
        "id": "SCb7GqwJhVQM",
        "colab_type": "code",
        "colab": {}
      },
      "source": [
        "# Check Files in Google Drive\n",
        "!ln -s /content/gdrive/My\\ Drive/ /mydrive"
      ],
      "execution_count": 0,
      "outputs": []
    },
    {
      "cell_type": "code",
      "metadata": {
        "id": "fn7j02XckhKy",
        "colab_type": "code",
        "colab": {}
      },
      "source": [
        "# Check Files\n",
        "!ls /mydrive/images/"
      ],
      "execution_count": 0,
      "outputs": []
    },
    {
      "cell_type": "code",
      "metadata": {
        "id": "7_ulTQD-h1_I",
        "colab_type": "code",
        "colab": {}
      },
      "source": [
        "!cp /mydrive/yolov3/obj.zip /content/darknet/"
      ],
      "execution_count": 0,
      "outputs": []
    },
    {
      "cell_type": "code",
      "metadata": {
        "id": "BHmzMviBi6hK",
        "colab_type": "code",
        "colab": {}
      },
      "source": [
        "!unzip /content/darknet/obj.zip -d /content/darknet/data/"
      ],
      "execution_count": 0,
      "outputs": []
    },
    {
      "cell_type": "code",
      "metadata": {
        "id": "E-sewYy0jdSF",
        "colab_type": "code",
        "colab": {}
      },
      "source": [
        "!cp /mydrive/yolov3_tiny/yolov3_tiny_custom.cfg /content/darknet/cfg/"
      ],
      "execution_count": 0,
      "outputs": []
    },
    {
      "cell_type": "code",
      "metadata": {
        "id": "vMFvGYpWk5iL",
        "colab_type": "code",
        "colab": {}
      },
      "source": [
        "!cp /mydrive/yolov3_tiny/obj.names /content/darknet/data/\n",
        "!cp /mydrive/yolov3_tiny/obj.data /content/darknet/data/"
      ],
      "execution_count": 0,
      "outputs": []
    },
    {
      "cell_type": "code",
      "metadata": {
        "id": "3Z9j1qQOlK1v",
        "colab_type": "code",
        "colab": {}
      },
      "source": [
        "!cp /mydrive/yolov3/generate_train.py /content/darknet"
      ],
      "execution_count": 0,
      "outputs": []
    },
    {
      "cell_type": "code",
      "metadata": {
        "id": "KUP71MkGlQFe",
        "colab_type": "code",
        "colab": {}
      },
      "source": [
        "!python /content/darknet/generate_train.py"
      ],
      "execution_count": 0,
      "outputs": []
    },
    {
      "cell_type": "code",
      "metadata": {
        "id": "uz5Q1SlulsYa",
        "colab_type": "code",
        "colab": {}
      },
      "source": [
        "# Upload Pretrained Convolutional Layer Weights from GDrive\n",
        "!cp /mydrive/yolov3_tiny/yolov3-tiny.conv.15 /content/darknet/"
      ],
      "execution_count": 0,
      "outputs": []
    },
    {
      "cell_type": "code",
      "metadata": {
        "id": "Vp5X6UZSlv-J",
        "colab_type": "code",
        "colab": {}
      },
      "source": [
        "#Train from Scratch\n",
        "%cd /content/darknet/\n",
        "!./darknet detector train /content/darknet/data/obj.data /content/darknet/cfg/yolov3_tiny_custom.cfg /content/darknet/yolov3-tiny.conv.15 -dont_show"
      ],
      "execution_count": 0,
      "outputs": []
    },
    {
      "cell_type": "code",
      "metadata": {
        "id": "dFllu0fTkQEZ",
        "colab_type": "code",
        "outputId": "f7bb1de2-98e2-48ac-8595-08b19e806dd3",
        "colab": {
          "base_uri": "https://localhost:8080/",
          "height": 1000
        }
      },
      "source": [
        "# Train From Saved File\n",
        "%cd /content/darknet/\n",
        "!./darknet detector train /content/darknet/data/obj.data /content/darknet/cfg/yolov3_tiny_custom.cfg /mydrive/yolov3_tiny/backup/yolov3_tiny_custom_last.weights -dont_show"
      ],
      "execution_count": 0,
      "outputs": [
        {
          "output_type": "stream",
       
          ],
          "name": "stdout"
        }
      ]
    },
    {
      "cell_type": "code",
      "metadata": {
        "id": "ha0nQlZFQRA1",
        "colab_type": "code",
        "colab": {}
      },
      "source": [
        "# Parameter Reduction\n",
        "%cd /content/darknet/cfg\n",
        "!sed -i 's/batch=64/batch=1/' yolov3_tiny_custom.cfg\n",
        "!sed -i 's/subdivisions=64/subdivisions=1/' yolov3_tiny_custom.cfg\n",
        "%cd .."
      ],
      "execution_count": 0,
      "outputs": []
    },
    {
      "cell_type": "code",
      "metadata": {
        "id": "utHZw38vQUXH",
        "colab_type": "code",
        "colab": {}
      },
      "source": [
        "# Image Validation\n",
        "%cd /content/darknet\n",
        "!./darknet detector test /content/darknet/data/obj.data /content/darknet/cfg/yolov3_tiny_custom.cfg /mydrive/yolov3/backup/yolov3_custom_last.weights /mydrive/images/test4.jpg\n",
        "imShow('predictions.jpg')"
      ],
      "execution_count": 0,
      "outputs": []
    },
    {
      "cell_type": "code",
      "metadata": {
        "id": "oYR8gX3K6G1L",
        "colab_type": "code",
        "colab": {}
      },
      "source": [
        "# Video Validation\n",
        "%cd /content/darknet\n",
        "!./darknet detector demo /content/darknet/data/obj.data /content/darknet/cfg/yolov3_custom.cfg /mydrive/yolov3/backup/yolov3_custom_last.weights -dont_show /mydrive/videos/mask.mp4 -i 0 -out_filename yolov3_out.avi"
      ],
      "execution_count": 0,
      "outputs": []
    }
  ]
}
